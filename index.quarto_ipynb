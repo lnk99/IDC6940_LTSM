{
  "cells": [
    {
      "cell_type": "markdown",
      "metadata": {},
      "source": [
        "---\n",
        "title: \"Detecting Anomalous Cybersecurity Events Using LSTM Autoencoders\"\n",
        "subtitle: \"A Case Study on the BETH Dataset\"\n",
        "author: \"Lionel & Killian (Advisor: Dr. Cohen)\"\n",
        "date: today\n",
        "format:\n",
        "  html:\n",
        "    code-fold: true\n",
<<<<<<< HEAD
        "jupyter: python3\n",
=======
>>>>>>> a2b7f38 (kii)
        "course: Capstone Projects in Data Science\n",
        "bibliography: references.bib # file contains bibtex for references\n",
        "#always_allow_html: true # this allows to get PDF with HTML features\n",
        "self-contained: true\n",
        "execute: \n",
        "  warning: false\n",
        "  message: false\n",
<<<<<<< HEAD
=======
        "jupyter: python3\n",
>>>>>>> a2b7f38 (kii)
        "editor: \n",
        "  markdown: \n",
        "    wrap: 72\n",
        "editor_options: \n",
        "  chunk_output_type: inline\n",
        "---\n",
        "\n",
        "\n",
        "Slides: [slides.html](slides.html){target=\"_blank\"} ( Go to `slides.qmd`\n",
        "to edit)\n",
        "\n",
        "## I- Introduction\n",
        "\n",
        "As modern digital infrastructures become increasingly interconnected and complex, attackers are relying more on process-level intrusions that carefully blend into legitimate activity. Such sophisticated threats often unfolding slowly over time or interleaving malicious commands with normal operations can evade static, signature-based defenses. Traditional systems, which are designed around pre-defined rules or pattern matching, fail to account for subtle changes in temporal context: an action that appears normal in isolation may signal an attack when it occurs in an unusual sequence. Detecting these threats requires models capable of understanding how events unfold over time.\n",
        "This challenge has spurred research toward dynamic, data-driven sequence modeling methods. Among these, Long Short-Term Memory (LSTM) networks have emerged as particularly effective. Introduced by Hochreiter and Schmidhuber [@hochreiter1997long], LSTM networks use gated memory cells that retain information across long sequences, effectively overcoming the vanishing gradient problem in traditional recurrent neural networks. This architecture allows LSTMs to capture dependencies spanning dozens or even hundreds of events, making them well-suited for modeling the temporal structure of cybersecurity logs, where the sequence of system calls and process operations is often critical.\n",
        "\n",
        "The versatility of LSTM networks has been demonstrated across diverse domains. In speech recognition, Graves, Mohamed, and Hinton [@graves2013speech] showed that deep LSTM architectures can learn the temporal structure of audio signals, significantly reducing error rates on benchmark tasks. In natural language processing, Sundermeyer et al. [@sundermeyer2012lstm] used LSTMs for language modeling, demonstrating that the model’s ability to retain long-range context leads to more accurate text generation compared to traditional n-gram methods. In the clinical domain, Lipton et al. [@lipton2016learning] applied LSTM models to patient vitals time series, revealing how memory-enabled models can detect subtle health anomalies as they develop. Across these applications, a core insight emerges: when the data is fundamentally sequential, LSTMs excel at modeling it.\n",
        "This modeling power has translated into cybersecurity research as well. Kim et al. [@kim2016long] applied LSTM-based classifiers to intrusion detection, demonstrating that LSTMs can recognize abnormal sequences of system and network behavior with lower false-positive rates than static feature approaches. Malhotra et al. [@malhotra2016lstm] advanced this work by introducing an LSTM encoder decoder for anomaly detection. Instead of directly classifying events, the model reconstructs input sequences, identifying anomalies by elevated reconstruction errors an approach especially well suited to unlabeled or novel attacks, as it learns solely from normal behavior. Yin et al. [@yin2017deep] extended this concept using recurrent neural networks over raw flow data, achieving improved generalization in network intrusion detection. Building further, Cinque et al. [@cinque2022micro2vec] introduced Micro2vec, which embeds log message patterns as numeric vectors and leverages LSTM networks to detect anomalies in microservice environments, showing how sequence models can scale to complex, real-world systems.\n",
        "\n",
        "Yet, progress in these models has often been constrained by outdated benchmarks. Seminal datasets such as KDD Cup 1999 [@hettich1999uci], NSL-KDD [@tavallaee2009detailed], and ISCX 2012 [@shiravi2012developing] provided early test beds for intrusion detection research, but are now hampered by synthetic traffic, unrealistic features, and obsolete system contexts limiting their generalizability. A model trained on these datasets may detect known patterns, but often fails in real-world scenarios where attackers use new commands, timing patterns, or process chains.\n",
        "\n",
        "In response, Highnam et al. [@highnam2021beth] introduced the BETH dataset, marking a significant advance in realism and operational relevance. Instrumented with eBPF across live honeypots, BETH captures over eight million process-level events including system calls, arguments, return values, and timestamps. Importantly, each data instance cleanly separates benign system behavior from adversarial activity, providing labeled, temporally coherent sequences. This makes BETH an ideal platform for training sequence-based anomaly detection models in a semi-supervised setting.\n",
        "Our approach builds directly on this foundation. We deploy an LSTM autoencoder trained exclusively on benign process sequences from BETH. The encoder compresses temporal sequences into fixed-length latent representations, while the decoder attempts to reconstruct them. When the model encounters novel malicious behavior, its reconstruction fails, producing high reconstruction error, this serves as our anomaly signal. This method aligns with recent advances in unsupervised anomaly detection [@gokstorp2024anomaly; @greff2017lstm], removing the need for prior knowledge of attack types and allowing rapid adaptation to emerging threats.\n",
        "\n",
        "This work makes three key contributions. First, it demonstrates the effectiveness of LSTM-based sequence modeling for detecting anomalies in real-world, process-level logs. Second, it presents a rigorous evaluation on the BETH dataset, using classification metrics and reconstruction thresholds to quantify detection capabilities. Third, it bridges the gap between advanced deep learning techniques and practical cybersecurity needs, delivering an interpretable, flexible, and deployable detection framework grounded in realistic system behavior.\n",
        "\n",
        "\n",
        "## II- Methods\n",
        "This section presents the methodological framework for detecting anomalies in cybersecurity event logs using Long Short-Term Memory (LSTM) autoencoders. The approach is organized into six interconnected components and together, these steps form a comprehensive and scalable pipeline for identifying irregularities in large-scale log data\n",
        "\n",
        "### 1. Long Short-Term Memory (LSTM) Networks\n",
        "\n",
        "Long Short-Term Memory (LSTM) networks are a type of recurrent neural network (RNN) developed by Hochreiter and Schmidhuber (1997) [@hochreiter1997long] specifically to overcome the vanishing gradient problem found in traditional RNNs. In cybersecurity applications, the ability to model long-range temporal dependencies is crucial, as malicious activity often unfolds over extended sequences of system calls, network packets, or access attempts.\n",
        "\n",
        "An LSTM cell maintains two key internal states at each time step: the cell state $C_t$ and the hidden state $h_t$. The cell state serves as a memory that runs across the sequence, allowing information to persist over time. Three gating mechanisms regulate this process:\n",
        "\n",
        "- **Forget Gate**: Determines which parts of the previous memory to discard.  \n",
        "  $$f_t = \\sigma(W_f [h_{t-1}, x_t] + b_f)$$\n",
        "where $h_{t-1}$ is the output in state $t-1$, $W_f$ and $b_f$ is the weight matrices\n",
        "and the bias of the forget gate.  \n",
        "\n",
        "- **Input Gate and Candidate Update**: Controls how much new information is added to the memory.  \n",
        "  $$i_t = \\sigma(W_i [h_{t-1}, x_t] + b_i), \\;\\; \\tilde{C}_t = \\tanh(W_c [h_{t-1}, x_t] + b_c)$$\n",
        "- **Cell State Update**:  \n",
        "  $$C_t = f_t * C_{t-1} + i_t * \\tilde{C}_t$$\n",
        "where ($W_i$, $b_i$) and ($W_c$, $b_c$) are the weight matrices and the biases of\n",
        "input gate and memory cell state, respectively\n",
        "\n",
        "- **Output Gate and Hidden State**: Controls what the cell outputs.  \n",
        "  $$o_t = \\sigma(W_o [h_{t-1}, x_t] + b_o), \\;\\; h_t = o_t * \\tanh(C_t)$$\n",
        "where $W_o$ and $b_o$ are the weight matrix and the bias of output gate, determines a part of the cell state being outputed.\n",
        "\n",
        "![Figure 1: A module of LSTM network [@trinh2021detecting]](lstm_cell.png){fig-align=\"center\" width=400px}\n",
        "\n",
        "LSTM’s memory mechanisms make it especially effective for modeling system behavior over time, where a sequence of seemingly benign events may, when considered together, signal an attack. This makes LSTM a preferred choice for modeling logs in intrusion detection systems [@lipton2016learning; @greff2017lstm; @graves2013speech]. \n",
        "\n",
        "### 2. LSTM Autoencoder for Anomaly Detection\n",
        "\n",
        "An LSTM autoencoder combines an encoder–decoder architecture with LSTM layers to learn latent representations of temporal data in an unsupervised manner. The encoder compresses input sequences into a fixed-length latent vector, while the decoder attempts to reconstruct the sequence from this vector. If the model is trained exclusively on normal data, it learns to reconstruct familiar sequences accurately. Anomalous sequences, which deviate from learned patterns, yield high reconstruction error a signal of abnormal behavior.\n",
        "\n",
        "Formally, for an input sequence $x = (x_1, ..., x_T)$, the autoencoder is trained to minimize the reconstruction loss:\n",
        "\n",
        "$$\n",
        "L = \\frac{1}{T} \\sum_{t=1}^T \\| x_t - \\hat{x}_t \\|^2\n",
        "$$\n",
        "\n",
        "where $\\hat{x}_t$ is the output generated by the decoder at each time step.\n",
        "\n",
        "During inference, this reconstruction error serves as an anomaly score. A sequence with error above a threshold $\\theta$ is flagged as anomalous. This technique, called reconstruction-based anomaly detection, is effective when anomalous samples are rare or unknown, which is often the case in cybersecurity contexts.\n",
        "\n",
        "![Figure 2: LSTM Autoencoder for Anomaly Detection [@trinh2021detecting]](11.png){fig-align=\"center\" width=400px}\n",
        " \n",
        "Past research has demonstrated the effectiveness of this approach in domains such as multi-sensor fault detection [@malhotra2016lstm], system log anomaly detection [@gokstorp2024anomaly], and network intrusion detection [@kim2016long; @cinque2022micro2vec]. Its unsupervised nature and ability to model complex time-dependent features make it a natural fit for the challenges of modern intrusion detection systems.\n",
        "\n",
        "### 3. Anomaly Detection Using LSTM Autoencoders\n",
        "\n",
        "Once trained on normal data, an LSTM autoencoder becomes a powerful tool for identifying anomalous behavior in sequential inputs such as system logs or network traces. The core idea is that the model becomes highly proficient at reconstructing sequences that follow the familiar temporal patterns it learned during training. However, when presented with sequences that deviate from these learned patterns such as those containing rare, unexpected, or malicious events, the model fails to reconstruct them accurately, producing a noticeably higher reconstruction error.\n",
        "\n",
        "This reconstruction error serves as a quantifiable measure of anomaly. Specifically, the anomaly score for a given input sequence is computed as the **mean squared error (MSE)** between each input vector  $x_t$ and its reconstructed counterpart $x_t$:\n",
        "\n",
        "\n",
        "$$\\text{Reconstruction Error} = \\frac{1}{T} \\sum_{t=1}^{T} \\|x_t - \\hat{x}_t\\|^2$$\n",
        "\n",
        "Here,  $T$ is the total number of time steps in the sequence. A higher score indicates greater divergence from normal behavior, and thus, a higher likelihood that the sequence is anomalous.\n",
        "\n",
        "To operationalize this detection process, a **threshold** is established. This threshold is usually selected by analyzing the distribution of reconstruction errors in the training or validation dataset, often by selecting a statistical percentile or optimizing detection metrics such as the F1-score. Any sequence with a reconstruction error exceeding the threshold is classified as **anomalous**, while sequences with lower errors are assumed to represent **normal activity**.\n",
        "\n",
        "This approach offers several key benefits in the context of cybersecurity anomaly detection:\n",
        "\n",
        "- **Unsupervised learning**: There is no need for labeled attack data during training, which is ideal since real-world attack examples are rare, imbalanced, or unknown at the time of deployment.\n",
        "- **Temporal awareness**: LSTM cells allow the model to consider context across long event sequences—making it effective in identifying subtle but meaningful deviations in system behavior over time.\n",
        "- **Detection of unknown attacks**: Since the model is not trained on known attack signatures, it generalizes better to novel or zero-day threats, simply by recognizing that \"this sequence doesn't look like normal behavior.\"\n",
        "\n",
        "The method has been successfully used in a variety of security-critical environments. For instance, Malhotra et al. [@malhotra2016lstm] used it to detect failures in multi-sensor environments, while Gökstorp et al. [@gokstorp2024anomaly] applied it to analyze security logs. These studies show that LSTM autoencoders can reliably distinguish benign from anomalous sequences, even in high-noise or high-volume contexts.\n",
        "\n",
        "In this project, we leverage the LSTM autoencoder’s ability to detect such behavioral anomalies in the BETH dataset. By training solely on benign log sequences and evaluating reconstruction performance on new data, our model provides a flexible, adaptive, and scalable mechanism for real-time anomaly detection.\n",
        "\n",
        "### 4. Justification for Approach and Dataset\n",
        "\n",
        "Cybersecurity anomaly detection requires models that are flexible, context-aware, and capable of adapting to new or unseen attack patterns. Traditional rule-based or signature-based detection systems are limited by their reliance on predefined patterns, making them ineffective against zero-day attacks or novel behavior.\n",
        "\n",
        "Unsupervised learning, particularly autoencoder-based methods, allows us to model what “normal” looks like and detect deviations from it, without requiring labeled attacks. This approach is grounded in the notion that abnormal behavior is, by definition, rare and structurally distinct from routine system activity [@yin2017deep].\n",
        "\n",
        "The BETH dataset [@highnam2021beth] was selected to evaluate our approach. It includes over 8 million system log events collected from 23 honeypots designed to mimic real-world server environments. Each honeypot was exposed to the internet and captured one targeted attack (at most), alongside a large volume of benign activity. Events are labeled using two binary fields: Sus for suspicious activity and Evil for confirmed malicious events. the table below give a description of our all dataset. \n",
        "\n",
        "Table1: The description and type of each feature within the DNS logs  \n",
        "\n",
        "| **Feature**         | **Description**                                             |\n",
        "|---------------------|-------------------------------------------------------------|\n",
        "| `timestamp`         | Date and time When the event occurred (float)               |\n",
        "| `processId`         | ID of the process generating the event                      |\n",
        "| `threadId`          | ID of the thread performing the operation                   |\n",
        "| `parentProcessId`   | ID of the parent process                                    |\n",
        "| `userId`            | User running the process/event                              |\n",
        "| `mountNamespace`    | Kernel namespace for filesystem isolation                   |\n",
        "| `processName`       | Name of the executable or program                           |\n",
        "| `hostName`          | Name or IP of the machine                                   |\n",
        "| `eventId`           | Numeric identifier for the event                            |\n",
        "| `eventName`         | Name/type of system call/event                              |\n",
        "| `stackAddresses`    | List of memory addresses (call stack)                       |\n",
        "| `argsNum`           | Number of arguments for the event                           |\n",
        "| `returnValue`       | Return value of the system call/event                       |\n",
        "| `args`              | List of arguments (name, type, value)                       |\n",
        "| `sus`               | 1 if flagged suspicious, 0 otherwise                        |\n",
        "| `evil`              | 1 if event is malicious, 0 otherwise                        |\n",
        "\n",
        "\n",
        "**The BETH dataset offers several key advantages:**  \n",
        "- **Realism:** Data is collected in production-like environments with realistic attack vectors.  \n",
        "- **Anomaly-focused labeling:** The Sus and Evil labels allow fine-grained evaluation of anomaly detection systems.  \n",
        "- **Accessibility:** The dataset is publicly available, enabling reproducibility and peer comparison.  \n",
        "\n",
        "Compared to older datasets like KDD’99 [@tavallaee2009detailed; @hettich1999uci] or NSL-KDD, BETH reflects modern system-level behavior and attack techniques, providing a more accurate benchmark for current anomaly detection research.\n",
        "\n",
<<<<<<< HEAD
        "### 5. Data Preprocessing and Sequence Modeling"
      ],
      "id": "10e90e7a"
    },
    {
      "cell_type": "code",
      "metadata": {},
      "source": [
        "#!pip install gdown"
      ],
      "id": "d88b8455",
      "execution_count": null,
      "outputs": []
=======
        "### 5. Data Preprocessing and Sequence Modeling\n"
      ],
      "id": "57d571c4"
>>>>>>> a2b7f38 (kii)
    },
    {
      "cell_type": "code",
      "metadata": {},
      "source": [
        "## Setup and Data Loading\n",
        "\n",
        "#| echo: true\n",
        "#| warning: false\n",
        "#| message: false\n",
        "\n",
<<<<<<< HEAD
        "import gdown\n",
=======
>>>>>>> a2b7f38 (kii)
        "import pandas as pd\n",
        "import numpy as np\n",
        "import matplotlib.pyplot as plt\n",
        "import seaborn as sns\n",
        "from load_datasets import load_all_datasets  # Make sure this module is available\n",
        "from sklearn.preprocessing import StandardScaler, LabelEncoder\n",
        "from sklearn.metrics import precision_recall_curve, f1_score, accuracy_score, recall_score, precision_score, confusion_matrix, roc_auc_score, roc_curve\n",
        "from tensorflow import keras\n",
        "from keras import layers, callbacks, Model\n",
        "import keras_tuner as kt\n",
        "from sklearn.model_selection import TimeSeriesSplit\n",
        "import os\n",
        "os.environ[\"KERAS_BACKEND\"] = \"tensorflow\"\n",
        "\n",
        "# Load datasets\n",
        "try:\n",
        "    datasets = load_all_datasets()\n",
<<<<<<< HEAD
        "    train_df = datasets[\"train\"]\n",
=======
        "    train_df = datasets[\"training\"]\n",
>>>>>>> a2b7f38 (kii)
        "    val_df = datasets[\"validation\"]\n",
        "    test_df = datasets[\"test\"]\n",
        "    \n",
        "    # Convert timestamps\n",
        "    train_df['timestamp'] = pd.to_datetime(train_df['timestamp'], unit='s', errors='coerce')\n",
        "    val_df['timestamp'] = pd.to_datetime(val_df['timestamp'], unit='s', errors='coerce')\n",
        "    test_df['timestamp'] = pd.to_datetime(test_df['timestamp'], unit='s', errors='coerce')\n",
        "    \n",
        "except Exception as e:\n",
        "    print(f\"Failed to load datasets: {str(e)}\")\n",
        "    raise"
      ],
<<<<<<< HEAD
      "id": "5f405866",
=======
      "id": "ea6b0bc5",
>>>>>>> a2b7f38 (kii)
      "execution_count": null,
      "outputs": []
    },
    {
      "cell_type": "markdown",
      "metadata": {},
      "source": [
        "To prepare the BETH dataset for LSTM modeling, we applied the following preprocessing steps:\n",
        "\n",
        "- **Feature extraction:** Key fields such as Timestamp, EventID, SyscallType, ProcessId, ReturnValue, and ArgsNum were selected based on relevance to behavioral analysis.\n",
        "- **Encoding:** Categorical fields were one-hot encoded to retain discrete information. Numerical fields were normalized to the [0, 1] range using min-max scaling.\n",
        "- **Sequence generation:** A sliding window of fixed size (e.g., 25–50 events) was used to convert raw logs into overlapping sequences. Each sequence was reshaped into a 3D tensor of shape (Batch × Time × Features), preserving temporal order and structural coherence.\n",
        "\n",
        "**Labeling for sequences was handled as follows:**\n",
        "- Sequences with only benign events were labeled as normal.\n",
        "- Sequences containing at least one Sus or Evil event were labeled as anomalous.\n",
        "\n",
        "This approach mirrors real-world monitoring scenarios, where logs are processed in fixed-length windows to detect behavioral anomalies over time.\n",
        "\n",
        "### 6. Model Training, Thresholding, and Evaluation\n",
        "\n",
        "#### 6.1 Training and Architecture\n",
        "\n",
        "The LSTM autoencoder is trained solely on normal sequences. The architecture includes two stacked LSTM layers in the encoder and decoder, with a fully connected layer at the bottleneck. The decoder mirrors the encoder in structure, and the model is trained to minimize reconstruction loss using the Adam optimizer.\n",
        "\n",
        "To improve generalization:\n",
        "- Early stopping is used based on validation loss.\n",
        "- A dropout layer is added to mitigate overfitting.\n",
        "- 5-fold cross-validation is used to assess the stability of the model across different subsets of the benign data.\n",
        "\n",
        "Hyperparameters (e.g., learning rate, batch size, window size, latent vector size) were selected based on preliminary tuning and aligned with best practices from related work [@nguyen2021forecasting; @malhotra2016lstm].\n",
        "\n",
        "#### 6.2 Threshold Selection\n",
        "\n",
        "After training, we determine an anomaly threshold $\\theta$ by analyzing reconstruction errors on a labeled validation set. Multiple strategies are considered:\n",
        "\n",
        "- Using a fixed percentile of training error distribution (e.g., 95th percentile)\n",
        "- Optimizing the F1-score on validation anomalies\n",
        "- Minimizing false positive and false negative rates jointly\n",
        "\n",
        "The selected threshold is applied to test sequences during evaluation.\n",
        "\n",
        "#### 6.3 Evaluation Metrics\n",
        "\n",
        "The model’s performance is evaluated using the following metrics:\n",
        "\n",
        "- **Precision:** The proportion of predicted anomalies that are true anomalies.\n",
        "- **Recall:** The proportion of actual anomalies that are correctly identified.\n",
        "- **F1-score:** The harmonic mean of precision and recall.\n",
        "- **ROC-AUC:** Measures the trade-off between true positive and false positive rates.\n",
        "- **Confusion Matrix:** Provides a granular view of model classification results.\n",
        "- **Error distribution plots:** Visualize separation between normal and anomalous samples.\n",
        "\n",
        "These metrics provide a robust, multidimensional assessment of the model’s effectiveness in identifying anomalous behavior.\n",
        "\n",
        "## III- Analysis and Results\n",
        "\n",
        "### 1- Data Exploration and Visualization\n",
        "\n",
        "To better understand the structure and composition of the BETH dataset, we begin by analyzing the process logs that serve as input to our LSTM-based anomaly detection model. The dataset comprises a total of 8,004,918 system events, among which a benchmark subset of approximately 763,145 records is reserved for training. The dataset is rich in temporal and categorical information, including process and thread identifiers, process names, system call arguments, return values, and two binary labels: sus (suspicious) and evil (malicious). The logs are chronologically ordered and contain a temporal feature (timestamp) suitable for sequential modeling. Each record represents an individual system event collected from one of 23 cloud-based honeypots. The data was split into training, validation, and test sets using a 60/20/20 ratio, where only the test set contains attack sequences.\n",
        "A descriptive analysis of the features reveals the heterogeneous nature of the dataset. The eventName field, for example, exhibits a long-tailed distribution, with certain events (e.g., execve, read, openat) appearing frequently, while others are rare and potentially indicative of anomalous behavior. The processName and hostName attributes also show high cardinality, which suggests the need for careful encoding strategies when preparing the data for modeling. An initial examination of the BETH training and test subsets reveals several insights into the nature of system-level activity across cloud-hosted honeypots. These observations have guided the formulation of our LSTM-based anomaly detection model.  \n",
        "\n",
<<<<<<< HEAD
        "\n",
        "#### 1.1 Event Frequency Distribution. \n"
      ],
      "id": "c2cb1593"
=======
        "#### 1.1 Event Frequency Distribution. "
      ],
      "id": "d61d3203"
>>>>>>> a2b7f38 (kii)
    },
    {
      "cell_type": "code",
      "metadata": {},
      "source": [
        "# ---- FIGURE 1: Most common event names in training data ----\n",
        "plt.figure(figsize=(10, 5))\n",
        "top_events = train_df['eventName'].value_counts().nlargest(10)\n",
        "sns.barplot(x=top_events.values, y=top_events.index, palette='Blues_r')\n",
        "plt.title(\"Top 10 Event Names in Training Data\")\n",
        "plt.xlabel(\"Frequency\")\n",
        "plt.ylabel(\"Event Name\")\n",
        "plt.tight_layout()\n",
        "plt.show()"
      ],
<<<<<<< HEAD
      "id": "a231d75b",
=======
      "id": "9841f1f4",
>>>>>>> a2b7f38 (kii)
      "execution_count": null,
      "outputs": []
    },
    {
      "cell_type": "markdown",
      "metadata": {},
      "source": [
        "As shown in Figure 3, the distribution of system events in the training data is highly skewed. The top three event types close, openat, and security_file_open collectively dominate the logs, each appearing over 150,000 times. In contrast, lower-frequency events such as getdents64 and socket are comparatively rare. This long-tailed distribution suggests that certain system calls represent routine behavior, while others though rare may hold critical information for detecting anomalies. Therefore, proper handling of categorical sparsity and rare event embedding is essential during preprocessing.    \n",
        "\n",
        "#### 1.2 Process Behavior\n"
      ],
<<<<<<< HEAD
      "id": "80c9f8e7"
=======
      "id": "7ccf0440"
>>>>>>> a2b7f38 (kii)
    },
    {
      "cell_type": "code",
      "metadata": {},
      "source": [
        "# ---- FIGURE 2: Most common process names in training data ----\n",
        "plt.figure(figsize=(10, 5))\n",
        "top_events = train_df['processName'].value_counts().nlargest(10)\n",
        "sns.barplot(x=top_events.values, y=top_events.index, palette='viridis')\n",
        "plt.title(\"Top 10 process Names in Training Data\")\n",
        "plt.xlabel(\"Frequency\")\n",
        "plt.ylabel(\"process_Name\")\n",
        "plt.tight_layout()\n",
        "plt.show()"
      ],
<<<<<<< HEAD
      "id": "5e7aa0ac",
=======
      "id": "92a0cb01",
>>>>>>> a2b7f38 (kii)
      "execution_count": null,
      "outputs": []
    },
    {
      "cell_type": "markdown",
      "metadata": {},
      "source": [
        "A similar distribution is observed in processName. A small set of background processes account for a significant fraction of system activity. These are expected in benign operational scenarios. However, malicious processes are often less frequent and unpredictable. This motivates the need for a temporal modeling approach that generalizes from dominant patterns while remaining sensitive to rare deviations.  \n",
        "\n",
        "#### 1.3 Temporal Skew in Data Collection \n"
      ],
<<<<<<< HEAD
      "id": "9ae2faec"
=======
      "id": "54645b4f"
>>>>>>> a2b7f38 (kii)
    },
    {
      "cell_type": "code",
      "metadata": {},
      "source": [
        "# ---- FIGURE 2: Event frequency by hour ----\n",
        "train_df['hour'] = train_df['timestamp'].dt.hour\n",
        "plt.figure(figsize=(10, 5))\n",
        "sns.countplot(data=train_df, x='hour', palette='viridis')\n",
        "plt.title(\"System Events Distribution by Hour (Training Data)\")\n",
        "plt.xlabel(\"Hour of Day\")\n",
        "plt.ylabel(\"Number of Events\")\n",
        "plt.tight_layout()\n",
        "plt.show()"
      ],
<<<<<<< HEAD
      "id": "6e983f55",
=======
      "id": "a6a4d550",
>>>>>>> a2b7f38 (kii)
      "execution_count": null,
      "outputs": []
    },
    {
      "cell_type": "markdown",
      "metadata": {},
      "source": [
        "Figure 4 reveals a pronounced imbalance in the distribution of events across time. The vast majority of events in the training set are concentrated within a single hour of activity, with very limited representation beyond that point. This skew may reflect batch-mode logging or the constrained operational window of honeypot collection. As a result, the model must be designed to generalize temporal patterns from narrow windows of observed behavior, further motivating the use of memory-aware architectures like LSTM.  \n",
        "\n",
<<<<<<< HEAD
        "#### 1.4 Label Imbalance and Anomaly Prevalence  \n"
      ],
      "id": "8b88ce66"
=======
        "#### 1.4 Label Imbalance and Anomaly Prevalence  "
      ],
      "id": "7e64fd9f"
>>>>>>> a2b7f38 (kii)
    },
    {
      "cell_type": "code",
      "metadata": {},
      "source": [
        "# ---- FIGURE 3: Count of evil vs. benign events in test set ----\n",
        "plt.figure(figsize=(6, 4))\n",
        "sns.countplot(data=test_df, x='evil', palette='coolwarm')\n",
        "plt.title(\"Malicious vs. Benign Events (Test Set)\")\n",
        "plt.xlabel(\"Evil Label\")\n",
        "plt.ylabel(\"Count\")\n",
        "plt.xticks([0, 1], ['Benign (0)', 'Malicious (1)'])\n",
        "plt.tight_layout()\n",
        "plt.show()"
      ],
<<<<<<< HEAD
      "id": "332376aa",
=======
      "id": "10caab48",
>>>>>>> a2b7f38 (kii)
      "execution_count": null,
      "outputs": []
    },
    {
      "cell_type": "markdown",
      "metadata": {},
      "source": [
        "Contrary to initial expectations, Figure 4 indicates that a substantial portion of the test data is labeled as malicious (evil = 1), with malicious events significantly outnumbering benign ones. This suggests that the dataset may contain attack-heavy test sequences designed for stress-testing anomaly detection models. This observation presents both a challenge and an opportunity: while class imbalance is often a barrier in anomaly detection, the abundance of labeled attacks in the test set allows for richer evaluation of model performance using standard classification metrics such as precision, recall, and F1-score.    \n",
<<<<<<< HEAD
        "\n",
        "#### 1.4 Correlation\n"
      ],
      "id": "e02e9060"
=======
        "#### 1.4 Correlation"
      ],
      "id": "f0bcd457"
>>>>>>> a2b7f38 (kii)
    },
    {
      "cell_type": "code",
      "metadata": {},
      "source": [
        "def dataset_to_corr_heatmap(dataframe, title, ax):\n",
        "    corr = dataframe.corr(numeric_only=True)\n",
        "    sns.heatmap(corr, ax = ax, annot=True, cmap=\"YlGnBu\")\n",
        "    ax.set_title(f'Correlation Plot for {title}')"
      ],
<<<<<<< HEAD
      "id": "acefabc2",
=======
      "id": "14bcf2a9",
>>>>>>> a2b7f38 (kii)
      "execution_count": null,
      "outputs": []
    },
    {
      "cell_type": "code",
      "metadata": {},
      "source": [
        "fig, (ax1, ax2, ax3) = plt.subplots(3, 1, figsize = (15,20))\n",
        "fig.tight_layout(pad=10.0)\n",
        "datasets = [train_df, test_df, val_df]\n",
        "dataset_names = ['train', 'test', 'validation']\n",
        "axs = [ax1, ax2, ax3]\n",
        "\n",
        "for dataset, name, ax in zip(datasets, dataset_names, axs):\n",
        "    dataset_to_corr_heatmap(dataset, name, ax)"
      ],
<<<<<<< HEAD
      "id": "e1f8bf93",
=======
      "id": "bdc06fa5",
>>>>>>> a2b7f38 (kii)
      "execution_count": null,
      "outputs": []
    },
    {
      "cell_type": "markdown",
      "metadata": {},
      "source": [
<<<<<<< HEAD
        "All three of the datasets have a heavy correlation between userId and the associated labels which feature in the dataset (sus and/or evil).\n",
        "processid and threadid are highly correlated and seem to have similar correlation vaules across all three datasets. This means that they are representing pretty much the same thing and one of them could be dropped.\n",
        "The correlation plots all look significantly different.\n",
        "\n",
        "#### 1.4 Boxplot \n"
      ],
      "id": "535a602d"
=======
        "#### 1.4 Boxplot"
      ],
      "id": "075accb6"
>>>>>>> a2b7f38 (kii)
    },
    {
      "cell_type": "code",
      "metadata": {},
      "source": [
        "from scipy import stats\n",
        "datasets = [train_df, test_df, val_df]\n",
        "\n",
        "entropy_values = []\n",
        "for dataset in datasets:\n",
        "    dataset_entropy_values = []\n",
        "    for col in dataset.columns:\n",
        "        if col == 'timestamp':\n",
        "            pass\n",
        "        else:\n",
        "            counts = dataset[col].value_counts()\n",
        "            col_entropy = stats.entropy(counts)\n",
        "            dataset_entropy_values.append(col_entropy)\n",
        "\n",
        "    entropy_values.append(dataset_entropy_values)\n",
        "\n",
        "plt.boxplot(entropy_values)\n",
        "plt.title('Boxplot of Entropy Values')\n",
        "plt.ylabel(\"entropy values\")\n",
        "plt.xticks([1,2,3],labels=['train', 'test', 'validate'])\n",
        "plt.show()"
      ],
<<<<<<< HEAD
      "id": "b52f1d23",
=======
      "id": "469c78de",
>>>>>>> a2b7f38 (kii)
      "execution_count": null,
      "outputs": []
    },
    {
      "cell_type": "code",
      "metadata": {},
      "source": [
        "from scipy import stats\n",
        "datasets = [train_df, test_df, val_df]\n",
        "\n",
        "variation_values = []\n",
        "for dataset in datasets:\n",
        "    dataset_variation_values = []\n",
        "    for col in dataset.columns:\n",
        "        if col == 'timestamp':\n",
        "            pass\n",
        "        else:\n",
        "            counts = dataset[col].value_counts()\n",
        "            col_variation = stats.variation(counts)\n",
        "            dataset_variation_values.append(col_variation)\n",
        "\n",
        "    variation_values.append(dataset_variation_values)\n",
        "\n",
        "plt.boxplot(variation_values)\n",
        "plt.title('Boxplot of Variation Values')\n",
        "plt.ylabel(\"Variation values\")\n",
        "plt.xticks([1,2,3],labels=['train', 'test', 'validate'])\n",
        "plt.show()"
      ],
<<<<<<< HEAD
      "id": "4e8e03f8",
=======
      "id": "a764b773",
>>>>>>> a2b7f38 (kii)
      "execution_count": null,
      "outputs": []
    },
    {
      "cell_type": "markdown",
      "metadata": {},
      "source": [
        "#### 1.5 Implications for Modeling  \n",
        "\n",
<<<<<<< HEAD
=======
        "```{r}\n",
        "for (df in list(train_df, val_df, test_df)) {\n",
        "  df$ground_truth <- as.integer(df$evil == 1)\n",
        "}\n",
        "\n",
        "```\n",
        "\n",
        "\n",
>>>>>>> a2b7f38 (kii)
        "Taken together, these findings justify our modeling decisions in several ways: The long-tailed event distribution calls for embedding-based representations of categorical variables (e.g., eventName, processName).  \n",
        "\n",
        "The temporal compression of training data highlights the need for architectures that generalize across short but informative sequences.  \n",
        "\n",
        "The label distribution in the test set supports a semi-supervised evaluation protocol, where a model trained on benign data is evaluated on its ability to flag deviations (i.e., attacks) as anomalous.  \n",
        "\n",
        "### 2- Modeling and Results  \n",
        "\n",
<<<<<<< HEAD
        "\n",
=======
>>>>>>> a2b7f38 (kii)
        "##### 2.1 Model Architecture \n",
        "\n",
        "The architecture of our anomaly detection system is based on an LSTM autoencoder trained exclusively on benign process sequences. The input to the model is a sliding window of look_back=8 consecutive events, each described by 9 features. The encoder consists of two LSTM layers with 128 and 64 hidden units, respectively, followed by dropout layers to prevent overfitting. The latent representation is repeated and passed to a symmetric decoder consisting of two LSTM layers that reconstruct the input sequence. The model is trained to minimize the Mean Absolute Error (MAE) between the original and reconstructed sequences. \n"
      ],
<<<<<<< HEAD
      "id": "f7f19e8f"
=======
      "id": "72d64f13"
>>>>>>> a2b7f38 (kii)
    },
    {
      "cell_type": "code",
      "metadata": {},
      "source": [
<<<<<<< HEAD
        "from sklearn.preprocessing import LabelEncoder, StandardScaler\n",
        "\n",
=======
>>>>>>> a2b7f38 (kii)
        "# Assign ground truth: 0=benign (evil=0), 1=malicious (evil=1)\n",
        "for df in [train_df, val_df, test_df]:\n",
        "    df['ground_truth'] = df['evil'].apply(lambda x: 1 if x == 1 else 0)\n",
        "\n",
        "# Select features\n",
        "features = [\n",
        "    'processId', 'parentProcessId', 'userId', 'mountNamespace',\n",
        "    'processName', 'hostName', 'eventId', 'argsNum', 'returnValue'\n",
        "]\n",
        "\n",
        "# Label encode categorical columns\n",
        "for col in ['processName', 'hostName']:\n",
        "    le = LabelEncoder()\n",
        "    all_vals = pd.concat([train_df[col], val_df[col], test_df[col]])\n",
        "    le.fit(all_vals)\n",
        "    train_df[col] = le.transform(train_df[col])\n",
        "    val_df[col] = le.transform(val_df[col])\n",
        "    test_df[col] = le.transform(test_df[col])\n",
        "\n",
        "# Scale features\n",
        "scaler = StandardScaler()\n",
        "train_df[features] = scaler.fit_transform(train_df[features])\n",
        "val_df[features] = scaler.transform(val_df[features])\n",
        "test_df[features] = scaler.transform(test_df[features])"
      ],
<<<<<<< HEAD
      "id": "b6d95422",
=======
      "id": "dea1d0d9",
>>>>>>> a2b7f38 (kii)
      "execution_count": null,
      "outputs": []
    },
    {
      "cell_type": "code",
      "metadata": {},
      "source": [
        "def create_sequences(df, features, look_back=8):\n",
        "    data_array = df[features].values\n",
        "    labels = df['ground_truth'].values\n",
        "    X, y = [], []\n",
        "    for i in range(len(df) - look_back + 1):\n",
        "        X.append(data_array[i:i+look_back])\n",
        "        y.append(labels[i + look_back - 1])\n",
        "    return np.array(X), np.array(y)\n",
        "\n",
        "\n",
        "look_back = 8\n",
        "\n",
        "X_train, _ = create_sequences(train_df, features, look_back)\n",
        "X_val, _ = create_sequences(val_df, features, look_back)\n",
        "X_test, y_test = create_sequences(test_df, features, look_back)\n",
        "\n",
        "print(\"X_train shape:\", X_train.shape)\n",
        "print(\"X_val shape:\", X_val.shape)\n",
        "print(\"X_test shape:\", X_test.shape)\n",
        "print(\"y_test distribution:\", np.bincount(y_test))"
      ],
<<<<<<< HEAD
      "id": "70a34448",
=======
      "id": "a8e71dc3",
>>>>>>> a2b7f38 (kii)
      "execution_count": null,
      "outputs": []
    },
    {
<<<<<<< HEAD
      "cell_type": "markdown",
      "metadata": {},
      "source": [
        "```{r}\n",
        "#library(reticulate)\n",
        "#use_python(\"C:/Users/ngawa/Downloads/caps/IDC6940_LTSM/venv/Scripts/python.exe\", required = TRUE)\n",
        "#py_module_available(\"tensorflow\")\n",
        "#py_run_string(\"import tensorflow as tf; print(tf.__version__)\")\n",
        "```"
      ],
      "id": "7f7ed009"
    },
    {
      "cell_type": "code",
      "metadata": {},
      "source": [
        "from tensorflow.keras import layers, Model\n",
        "from tensorflow.keras.layers import Dense, LSTM, Dropout, RepeatVector, TimeDistributed, Input\n",
        "from tensorflow.keras import layers\n",
        "import tensorflow as tf\n",
        "from tensorflow import keras\n",
        "\n",
        "\n",
        "def build_lstm_autoencoder(input_shape, latent_dim=64, dropout=0.1, learning_rate=1e-3):\n",
        "    inputs = layers.Input(shape=input_shape)\n",
        "    \n",
=======
      "cell_type": "code",
      "metadata": {},
      "source": [
        "#LSTM Autoencoder model\n",
        "def build_lstm_autoencoder(input_shape, latent_dim=64, dropout=0.1, learning_rate=1e-3):\n",
        "    inputs = layers.Input(shape=input_shape)\n",
>>>>>>> a2b7f38 (kii)
        "    # Encoder\n",
        "    x = layers.LSTM(128, activation='relu', return_sequences=True)(inputs)\n",
        "    x = layers.Dropout(dropout)(x)\n",
        "    x = layers.LSTM(latent_dim, activation='relu', return_sequences=False)(x)\n",
        "    encoded = layers.Dropout(dropout)(x)\n",
<<<<<<< HEAD
        "    \n",
        "    # Repeat vector for decoder (Bottleneck)\n",
        "    x = layers.RepeatVector(input_shape[0])(encoded)\n",
        "    \n",
=======
        "    # Repeat vector for decoder (Bottleneck)\n",
        "    x = layers.RepeatVector(input_shape[0])(encoded)\n",
>>>>>>> a2b7f38 (kii)
        "    # Decoder\n",
        "    x = layers.LSTM(latent_dim, activation='relu', return_sequences=True)(x)\n",
        "    x = layers.Dropout(dropout)(x)\n",
        "    x = layers.LSTM(128, activation='relu', return_sequences=True)(x)\n",
<<<<<<< HEAD
        "    x = layers.Dropout(dropout)(x)\n",
        "    decoded = layers.TimeDistributed(layers.Dense(input_shape[1]))(x)\n",
        "\n",
        "    model = Model(inputs, decoded)\n",
        "    model.compile(optimizer=keras.optimizers.Adam(learning_rate=learning_rate), \n",
        "                 loss='mae')\n",
=======
        "    decoded = layers.TimeDistributed(layers.Dense(input_shape[1]))(x)\n",
        "\n",
        "    model = Model(inputs, decoded)\n",
        "    model.compile(optimizer=keras.optimizers.Adam(learning_rate=learning_rate), loss='mae')\n",
>>>>>>> a2b7f38 (kii)
        "    return model\n",
        "\n",
        "input_shape = X_train.shape[1:]\n",
        "model = build_lstm_autoencoder(input_shape, latent_dim=64, dropout=0.1, learning_rate=1e-3)\n",
        "model.summary()"
      ],
<<<<<<< HEAD
      "id": "a0eb99d4",
=======
      "id": "431210c2",
>>>>>>> a2b7f38 (kii)
      "execution_count": null,
      "outputs": []
    },
    {
      "cell_type": "markdown",
      "metadata": {},
      "source": [
        "The final input tensor shape is (batch_size, 8, 9), corresponding to 8 time steps and 9 features. The model has approximately 1.5 million trainable parameters.    \n",
        "\n",
        "\n",
        "#### 2.2 Training and Validation Performance     \n",
        "\n",
        "We first evaluate the generalization capability of the model using a 5-fold time-series cross-validation performed on benign data only. For each fold, the model is trained on a different temporal split and evaluated on future sequences to simulate realistic detection scenarios.  \n"
      ],
<<<<<<< HEAD
      "id": "ac44b74b"
=======
      "id": "51ca56cb"
>>>>>>> a2b7f38 (kii)
    },
    {
      "cell_type": "code",
      "metadata": {},
      "source": [
        "#apply cross validaion on 5 fold (val+train)\n",
        "from sklearn.model_selection import TimeSeriesSplit\n",
        "\n",
        "full_benign_df = pd.concat([train_df, val_df])\n",
        "X_benign, _ = create_sequences(full_benign_df, features, look_back=8)\n",
        "\n",
        "k = 5\n",
        "tscv = TimeSeriesSplit(n_splits=k)\n",
        "val_losses = []\n",
        "\n",
        "for fold, (train_idx, val_idx) in enumerate(tscv.split(X_benign)):\n",
        "    print(f\"\\nFold {fold+1}/{k}\")\n",
        "    X_tr, X_val = X_benign[train_idx], X_benign[val_idx]\n",
        "    model = build_lstm_autoencoder(X_tr.shape[1:])\n",
        "    early_stop = callbacks.EarlyStopping(monitor='val_loss', patience=8, restore_best_weights=True)\n",
        "    history=model.fit(X_tr, X_tr,\n",
        "              validation_data=(X_val, X_val),\n",
        "              epochs=15,\n",
        "              batch_size=128,\n",
        "              callbacks=[early_stop],\n",
        "              verbose=1)\n",
        "    val_loss = model.evaluate(X_val, X_val, verbose=0)\n",
        "    print(f\"Fold {fold+1} validation loss: {val_loss:.6f}\")\n",
        "    val_losses.append(val_loss)\n",
        "\n",
<<<<<<< HEAD
        "print(f\"\\nMean validation loss over {k} folds: {np.mean(val_losses):.6f} (+/- {np.std(val_losses):.6f})\")"
      ],
      "id": "a661078b",
=======
        "print(f\"\\nMean validation loss over {k} folds: {np.mean(val_losses):.6f} (+/- {np.std(val_losses):.6f})\")\n",
        "model.save('/content/drive/MyDrive/Dataset_capstone/model.h5')\n"
      ],
      "id": "322e909a",
>>>>>>> a2b7f38 (kii)
      "execution_count": null,
      "outputs": []
    },
    {
      "cell_type": "code",
      "metadata": {},
      "source": [
<<<<<<< HEAD
=======
        "model.save(\"my_model.keras\")\n",
>>>>>>> a2b7f38 (kii)
        "plt.plot(history.history['loss'], label='Training Loss')\n",
        "plt.plot(history.history['val_loss'], label='Validation Loss')\n",
        "plt.xlabel('Epoch')\n",
        "plt.ylabel('Loss')\n",
        "plt.legend()\n",
        "plt.show()"
      ],
<<<<<<< HEAD
      "id": "b527ada1",
=======
      "id": "bac47f5c",
>>>>>>> a2b7f38 (kii)
      "execution_count": null,
      "outputs": []
    },
    {
      "cell_type": "markdown",
      "metadata": {},
      "source": [
        "The average validation loss across folds was: 0.142291 (+/-0.128335). After cross-validation, the model was retrained on the full benign training set. The final training and validation losses indicate stable convergence without overfitting as we can see on the figure above\n",
        "\n",
        "\n",
        "#### 2.3 Anomaly Detection Threshold\n",
        "The trained model was then used to compute reconstruction errors over the test set. The distribution of reconstruction errors clearly shows a distinguishable separation between normal and anomalous sequences \n"
      ],
<<<<<<< HEAD
      "id": "0e802927"
=======
      "id": "b93c893a"
>>>>>>> a2b7f38 (kii)
    },
    {
      "cell_type": "code",
      "metadata": {},
      "source": [
        "# Predict reconstructions\n",
        "X_test_pred = model.predict(X_test)\n",
        "test_mae = np.mean(np.abs(X_test_pred - X_test), axis=(1,2))  # Mean absolute error per sequence\n",
        "\n",
        "plt.figure(figsize=(10,4))\n",
        "plt.hist(test_mae, bins=100, alpha=0.6)\n",
        "plt.title(\"Distribution of Reconstruction Error (Test Set)\")\n",
        "plt.xlabel(\"MAE\")\n",
        "plt.ylabel(\"Count\")\n",
        "plt.show()"
      ],
<<<<<<< HEAD
      "id": "7ed90db3",
=======
      "id": "f73593f3",
>>>>>>> a2b7f38 (kii)
      "execution_count": null,
      "outputs": []
    },
    {
      "cell_type": "markdown",
      "metadata": {},
      "source": [
        "To convert reconstruction error into binary predictions, we used the precision-recall curve to find the optimal threshold that maximizes the F1-score: 0.9549.\n"
      ],
<<<<<<< HEAD
      "id": "469f419f"
=======
      "id": "bb9c5fc4"
>>>>>>> a2b7f38 (kii)
    },
    {
      "cell_type": "code",
      "metadata": {},
      "source": [
        "precision, recall, thresholds = precision_recall_curve(y_test, test_mae)\n",
        "f1 = 2 * (precision * recall) / (precision + recall + 1e-10)\n",
        "best_threshold = thresholds[np.argmax(f1)]\n",
<<<<<<< HEAD
        "print(f\"Best threshold by max F1: {best_threshold:.4f}\")"
      ],
      "id": "aedd29a6",
      "execution_count": null,
      "outputs": []
    },
    {
      "cell_type": "code",
      "metadata": {},
      "source": [
=======
        "print(f\"Best threshold by max F1: {best_threshold:.4f}\")\n",
>>>>>>> a2b7f38 (kii)
        "plt.plot(thresholds, precision[:-1], label='Precision')\n",
        "plt.plot(thresholds, recall[:-1], label='Recall')\n",
        "plt.plot(thresholds, f1[:-1], label='F1')\n",
        "plt.axvline(best_threshold, color='r', linestyle='--', label='Best threshold')\n",
        "plt.xlabel('Threshold')\n",
        "plt.legend()\n",
        "plt.title(\"Precision/Recall/F1 vs Threshold\")\n",
        "plt.show()"
      ],
<<<<<<< HEAD
      "id": "c4dd1784",
=======
      "id": "1bdcd0ab",
>>>>>>> a2b7f38 (kii)
      "execution_count": null,
      "outputs": []
    },
    {
      "cell_type": "markdown",
      "metadata": {},
      "source": [
        "#### 2.4 Classification Metrics\n",
<<<<<<< HEAD
        "Once the best threshold was determined, we applied it to the test set. The model successfully identified anomalous sequences with high accuracy of 99%. The confusion matrix below shows that most benign and malicious events are correctly classified. \n"
      ],
      "id": "059e72c3"
=======
        "Once the best threshold was determined, we applied it to the test set. The model successfully identified anomalous sequences with high accuracy of 99%. The confusion matrix below shows that most benign and malicious events are correctly classified.  "
      ],
      "id": "12f843e3"
>>>>>>> a2b7f38 (kii)
    },
    {
      "cell_type": "code",
      "metadata": {},
      "source": [
        "# Predict anomalies\n",
        "y_pred = (test_mae > best_threshold).astype(int)\n",
        "\n",
        "# Confusion matrix\n",
        "cm = confusion_matrix(y_test, y_pred)\n",
<<<<<<< HEAD
=======
        "print(\"Confusion Matrix:\\n\", cm)\n",
        "\n",
>>>>>>> a2b7f38 (kii)
        "# Metrics\n",
        "acc = accuracy_score(y_test, y_pred)\n",
        "prec = precision_score(y_test, y_pred)\n",
        "rec = recall_score(y_test, y_pred)\n",
        "f1s = f1_score(y_test, y_pred)\n",
        "fpr = cm[0,1] / (cm[0,0] + cm[0,1])\n",
        "fnr = cm[1,0] / (cm[1,0] + cm[1,1])\n",
<<<<<<< HEAD
        "roc_auc = roc_auc_score(y_test, test_mae)\n",
        "print(f\"Accuracy: {acc:.3f}\")\n",
        "print(f\"Precision: {prec:.3f}\")\n",
        "print(f\"Recall: {rec:.3f}\")\n",
        "print(f\"F1-score: {f1s:.3f}\")\n",
        "print(f\"False Positive Rate: {fpr:.3f}\")\n",
        "print(f\"False Negative Rate: {fnr:.3f}\")\n",
        "print(f\"ROC AUC: {roc_auc:.3f}\")"
      ],
      "id": "d68c2db6",
=======
        "roc_auc = roc_auc_score(y_test, test_mae)"
      ],
      "id": "06b85484",
>>>>>>> a2b7f38 (kii)
      "execution_count": null,
      "outputs": []
    },
    {
      "cell_type": "code",
      "metadata": {},
      "source": [
        "plt.figure(figsize=(5,4))\n",
        "sns.heatmap(cm, annot=True, fmt='d', cmap='Reds',\n",
        "            xticklabels=['Benign (Pred)', 'Malicious (Pred)'],\n",
        "            yticklabels=['Benign (True)', 'Malicious (True)'])\n",
        "plt.xlabel('Predicted Label')\n",
        "plt.ylabel('True Label')\n",
        "plt.title('Confusion Matrix')\n",
        "plt.show()"
      ],
<<<<<<< HEAD
      "id": "783fe69a",
=======
      "id": "37efc098",
>>>>>>> a2b7f38 (kii)
      "execution_count": null,
      "outputs": []
    },
    {
      "cell_type": "markdown",
      "metadata": {},
      "source": [
        "- False Positive Rate: 0.040\n",
        "- False Negative Rate: 0.005\n",
        "\n",
        "The confusion matrix highlights the model’s strength in correctly identifying malicious events (true positives), while maintaining a relatively low rate of false positives. Misclassifications were analyzed and often linked to sequences with novel process or host identifiers not seen during training further confirming the model’s ability to flag unfamiliar temporal patterns. \n",
        "\n",
        "The high recall suggests the model captures almost all malicious behavior, which is critical for a cybersecurity context. The small false positive rate (3.4%) indicates that few benign sequences are misclassified, making this model practical for real-time deployment where false alarms are costly. The ROC curve and AUC value confirm the model's excellent discriminatory power between normal and malicious activity.\n"
      ],
<<<<<<< HEAD
      "id": "04a4e315"
=======
      "id": "9e8e495c"
>>>>>>> a2b7f38 (kii)
    },
    {
      "cell_type": "code",
      "metadata": {},
      "source": [
        "# ROC Curve\n",
        "fpr_curve, tpr_curve, _ = roc_curve(y_test, test_mae)\n",
        "plt.plot(fpr_curve, tpr_curve, label=f'ROC AUC={roc_auc:.2f}')\n",
        "plt.xlabel(\"FPR\")\n",
        "plt.ylabel(\"TPR\")\n",
        "plt.title(\"ROC Curve\")\n",
        "plt.legend()\n",
        "plt.show()"
      ],
<<<<<<< HEAD
      "id": "6e8699d5",
=======
      "id": "9ad3a1e1",
>>>>>>> a2b7f38 (kii)
      "execution_count": null,
      "outputs": []
    },
    {
      "cell_type": "markdown",
      "metadata": {},
      "source": [
        "#### 2.5 Overall Evaluation and Future Considerations\n",
        "The LSTM autoencoder exhibited strong performance in terms of: Learning a stable representation of normal sequences. Flagging novel and anomalous patterns through unsupervised learning. Achieving a high F1-score despite class imbalance.\n",
        "Aligning with state-of-the-art performance in similar studies [@highnam2021beth; @kim2016long].\n",
        "For future deployment, periodic retraining is recommended to adapt to system evolution. Additionally, incorporating attention mechanisms or hybrid ensembles may further enhance sensitivity to subtle anomalies.\n",
        "\n",
        "## IV-Conclusion\n",
        "\n",
        "This project has demonstrated the substantial potential of LSTM autoencoders for detecting anomalous cybersecurity events in real-world, process-level system logs. By leveraging the BETH dataset—one of the most realistic and contemporary benchmarks for intrusion detection—we were able to rigorously assess the effectiveness of deep sequence modeling for practical cyber defense.\n",
        "Our approach, grounded in unsupervised learning, involved training the LSTM autoencoder exclusively on benign sequences to learn the complex temporal dependencies that characterize normal system behavior. The model’s ability to generalize from limited windows of typical activity allowed it to sensitively identify even subtle deviations linked to novel or sophisticated attacks. Through careful feature engineering, one-hot encoding, and sequence modeling, we prepared heterogeneous system logs for robust anomaly detection.\n",
        "\n",
        "The evaluation of our model was comprehensive and multidimensional. Using metrics such as precision, recall, F1-score, ROC-AUC, and confusion matrices, we showed that the LSTM autoencoder achieved high accuracy (99%) and a strong ability to discriminate between benign and malicious activity—even in the face of class imbalance and temporal data skew. The model’s low false positive and false negative rates affirm its practicality for real-time deployment, where both missed attacks and false alarms carry significant costs.\n",
        "\n",
        "A key strength of this work lies in its adaptability. Because the method is unsupervised and does not rely on prior knowledge of attack signatures, it remains robust against previously unseen or zero-day threats. This property, combined with rigorous threshold tuning and cross-validation, positions the approach as a promising candidate for deployment in dynamic, evolving cybersecurity environments.\n",
        "\n",
        "**Limitations and Future Work:** While the results are compelling, some limitations remain. The dataset’s temporal compression and event imbalance, as well as potential overfitting to benign process patterns, suggest the need for ongoing retraining as system behaviors evolve. Future enhancements could include integrating attention mechanisms, hybrid ensemble methods, or continual learning strategies to further improve detection sensitivity and adaptability.\n",
        "\n",
        "In summary, this project bridges advanced deep learning research with operational cybersecurity needs. By demonstrating that LSTM autoencoders can reliably flag anomalies in complex system logs without extensive labeled attack data, we provide a practical, scalable, and interpretable framework for next-generation intrusion detection. Our findings underscore the critical role of sequence-aware models in defending modern digital infrastructures against a rapidly evolving threat landscapes\n",
        "## References"
      ],
<<<<<<< HEAD
      "id": "b7cb75ac"
=======
      "id": "93fc8199"
>>>>>>> a2b7f38 (kii)
    }
  ],
  "metadata": {
    "kernelspec": {
      "name": "python3",
      "language": "python",
      "display_name": "Python 3 (ipykernel)",
<<<<<<< HEAD
      "path": "C:\\Users\\ngawa\\Downloads\\caps\\IDC6940_LTSM\\venv\\share\\jupyter\\kernels\\python3"
=======
      "path": "/usr/local/share/jupyter/kernels/python3"
>>>>>>> a2b7f38 (kii)
    }
  },
  "nbformat": 4,
  "nbformat_minor": 5
}